{
  "nbformat": 4,
  "nbformat_minor": 0,
  "metadata": {
    "colab": {
      "provenance": []
    },
    "kernelspec": {
      "name": "python3",
      "display_name": "Python 3"
    },
    "language_info": {
      "name": "python"
    }
  },
  "cells": [
    {
      "cell_type": "markdown",
      "source": [
        "# **Differential Privacy Examples**\n",
        "\n",
        "## Cheaters vs. Non-cheaters with a Coin Flip\n",
        "We will look at an imaginary scenario with basic coin flips. Say we want to estimate what proportion of students cheated on an exam. This is a sensitive question though, and students may feel uncomfortable answering honestly. So we can us DP to estimate while preserving individual privacy."
      ],
      "metadata": {
        "id": "cX7-XsIXom_v"
      }
    },
    {
      "cell_type": "code",
      "execution_count": 1,
      "metadata": {
        "id": "L2iK3LoMol-4"
      },
      "outputs": [],
      "source": [
        "import matplotlib.pyplot as plt #matplotlib to graph data\n",
        "import random #random to implement the coin flip"
      ]
    },
    {
      "cell_type": "markdown",
      "source": [
        "First, we will see what the data looks like without differential privacy. Our raw data is represented with 0s and 1s, where 0 means \"did not cheat,\" and 1 means \"cheated.\" "
      ],
      "metadata": {
        "id": "ruEmTZZ5z6n6"
      }
    },
    {
      "cell_type": "code",
      "source": [
        "rawData = [0, 1, 1, 1, 0, 1, 0, 0, 0, 0, 0, 0, 0, 0, 1, 1, 0, 0, 1, 1, \\\n",
        "           1, 0, 0, 1, 0, 0, 0, 0, 1, 1, 0, 1, 0, 1, 0, 1, 0, 0, 0, 0, \\\n",
        "           0, 1, 1, 0, 0, 0, 1, 1, 0, 0, 0, 0, 0, 0, 0, 0, 0, 1, 0, 1, \\\n",
        "           1, 0, 1, 1, 0, 0, 0, 0, 1, 0, 1, 0, 0, 1, 1, 0, 0, 0, 0, 0, \\\n",
        "           0, 0, 0, 0, 1, 1, 0, 1, 0, 0, 1, 0, 1, 0, 0, 0, 0, 0, 0, 0, \\\n",
        "           0, 1, 1, 1, 0, 1, 0, 0, 0, 0, 0, 0, 0, 0, 1, 1, 0, 0, 1, 1, \\\n",
        "           1, 0, 0, 1, 0, 0, 0, 0, 1, 1, 0, 1, 0, 1, 0, 1, 0, 0, 0, 0, \\\n",
        "           0, 1, 1, 0, 0, 0, 1, 1, 0, 0, 0, 0, 0, 0, 0, 0, 0, 1, 0, 1, \\\n",
        "           1, 0, 1, 1, 0, 0, 0, 0, 1, 0, 1, 0, 0, 1, 1, 0, 0, 0, 0, 0, \\\n",
        "           0, 0, 0, 0, 1, 1, 0, 1, 0, 0, 1, 0, 1, 0, 0, 0, 0, 0, 0, 0, \\\n",
        "           0, 1, 1, 1, 0, 1, 0, 0, 0, 0, 0, 0, 0, 0, 1, 1, 0, 0, 1, 1, \\\n",
        "           1, 0, 0, 1, 0, 0, 0, 0, 1, 1, 0, 1, 0, 1, 0, 1, 0, 0, 0, 0, \\\n",
        "           0, 1, 1, 0, 0, 0, 1, 1, 0, 0, 0, 0, 0, 0, 0, 0, 0, 1, 0, 1, \\\n",
        "           1, 0, 1, 1, 0, 0, 0, 0, 1, 0, 1, 0, 0, 1, 1, 0, 0, 0, 0, 0, \\\n",
        "           0, 0, 0, 0, 1, 1, 0, 1, 0, 0, 1, 0, 1, 0, 0, 0, 0, 0, 0, 1]\n",
        "\n",
        "plotData = {'cheated': rawData.count(1), 'did not cheat': rawData.count(0)}\n",
        "labels = list(plotData.keys())\n",
        "values = list(plotData.values())\n",
        "\n",
        "plt.bar(labels, values)\n",
        "plt.title(\"No DP: Number of students who reported cheating vs not cheating\")\n",
        "plt.show()"
      ],
      "metadata": {
        "colab": {
          "base_uri": "https://localhost:8080/",
          "height": 281
        },
        "id": "vHoLG2TQpL5Q",
        "outputId": "fc4bfa35-c2b5-4f7d-ee32-683d9eeeb4aa"
      },
      "execution_count": 9,
      "outputs": [
        {
          "output_type": "display_data",
          "data": {
            "text/plain": [
              "<Figure size 432x288 with 1 Axes>"
            ],
            "image/png": "[encoded data removed]"
          },
          "metadata": {
            "needs_background": "light"
          }
        }
      ]
    },
    {
      "cell_type": "markdown",
      "source": [
        "Let's add a new student to the data. Assume that they actually did cheat. Now, run the outputs to see how their data point affects the graph. (Click on the graph if it's too small)"
      ],
      "metadata": {
        "id": "Qa50gV-jT-p4"
      }
    },
    {
      "cell_type": "code",
      "source": [
        "rawData.append(1) #indicates Student #301 did actually cheat\n",
        "\n",
        "plotData = {'cheated': rawData.count(1), 'did not cheat': rawData.count(0)}\n",
        "labels = list(plotData.keys())\n",
        "values = list(plotData.values())\n",
        "\n",
        "graph = plt.bar(labels, values)\n",
        "for bar in graph:\n",
        "  plt.annotate(bar.get_height(), xy=(bar.get_x()+0.33, bar.get_height()-10), fontsize=10, color=\"white\")\n",
        "plt.title(\"No DP: Adding a student who actually cheated to the data\")\n",
        "plt.show()"
      ],
      "metadata": {
        "colab": {
          "base_uri": "https://localhost:8080/",
          "height": 281
        },
        "id": "nhSTkDoAVV5c",
        "outputId": "ef35bf5e-88c5-4d40-e8d1-a9e824ed630a"
      },
      "execution_count": 10,
      "outputs": [
        {
          "output_type": "display_data",
          "data": {
            "text/plain": [
              "<Figure size 432x288 with 1 Axes>"
            ],
            "image/png": "[encoded data removed]"
          },
          "metadata": {
            "needs_background": "light"
          }
        }
      ]
    },
    {
      "cell_type": "markdown",
      "source": [
        "In this traditional survey, when we add a student, it's very easy to tell the difference between the two results. If the \"cheated\" count goes up, the student cheated. If the \"did not cheat\" count goes up, then they didn't cheat. because the cheated column is now 101 instead of 100, that means student #301 cheated.\n",
        "\n",
        "To implement DP, each student flips a coin. If it lands on heads, they will truthfully answer. If it lands on tails, they flip another coin. If it lands on heads, they respond that they haven't cheated, and if it lands on tails, they respond that they have cheated.\n",
        "\n",
        "Run the code multiple times. Notice how the graph changes every time? That's because DP algorithms inject randomness, such as we did with a coin flip."
      ],
      "metadata": {
        "id": "nsb40Grs1iyL"
      }
    },
    {
      "cell_type": "code",
      "source": [
        "dpData = []\n",
        "for each in rawData:\n",
        "  flip = random.randint(0,1)\n",
        "  if flip == 0:\n",
        "    dpData.append(each)\n",
        "  else:\n",
        "    dpData.append(random.randint(0,1))\n",
        "\n",
        "dpPlotData = {'cheated': dpData.count(1), 'did not cheat': dpData.count(0)}\n",
        "\n",
        "labels = list(dpPlotData.keys())\n",
        "values = list(dpPlotData.values())\n",
        "graph = plt.bar(labels, values)\n",
        "for bar in graph:\n",
        "  plt.annotate(bar.get_height(), xy=(bar.get_x()+0.33, bar.get_height()-10), fontsize=10, color=\"white\")\n",
        "plt.title(\"DP Version: Number of students who reported cheating vs not cheating\")\n",
        "plt.show()"
      ],
      "metadata": {
        "colab": {
          "base_uri": "https://localhost:8080/",
          "height": 281
        },
        "id": "ti0MUbL3uwzD",
        "outputId": "733c6f59-9738-4a0e-f6a9-1446cdca26e8"
      },
      "execution_count": 11,
      "outputs": [
        {
          "output_type": "display_data",
          "data": {
            "text/plain": [
              "<Figure size 432x288 with 1 Axes>"
            ],
            "image/png": "[encoded data removed]"
          },
          "metadata": {
            "needs_background": "light"
          }
        }
      ]
    },
    {
      "cell_type": "markdown",
      "source": [
        "Now, we can illustrate one of the main purposes of differential privacy: it will not be possible to tell the difference from the results of one dataset versus a parallel one.\n",
        "\n",
        "Let's add another new student to the data. Assume that they actually did cheat."
      ],
      "metadata": {
        "id": "Sg7C_daaThee"
      }
    },
    {
      "cell_type": "code",
      "source": [
        "rawData.append(1) #indicates Student #302 did actually cheat"
      ],
      "metadata": {
        "id": "AOk_SiF6dHGD"
      },
      "execution_count": 12,
      "outputs": []
    },
    {
      "cell_type": "markdown",
      "source": [
        "Now, run the outputs to see how their data point affects the graph. Try this multiple times and observe how the graph changes."
      ],
      "metadata": {
        "id": "Ifq6ePnqdNGy"
      }
    },
    {
      "cell_type": "code",
      "source": [
        "dpData = []\n",
        "for each in rawData:\n",
        "  flip = random.randint(0,1)\n",
        "  if flip == 0:\n",
        "    dpData.append(each)\n",
        "  else:\n",
        "    dpData.append(random.randint(0,1))\n",
        "\n",
        "dpPlotData = {'cheated': dpData.count(1), 'did not cheat': dpData.count(0)}\n",
        "\n",
        "labels = list(dpPlotData.keys())\n",
        "values = list(dpPlotData.values())\n",
        "\n",
        "graph = plt.bar(labels, values)\n",
        "for bar in graph:\n",
        "  plt.annotate(bar.get_height(), xy=(bar.get_x()+0.33, bar.get_height()-10), fontsize=10, color=\"white\")\n",
        "plt.title(\"DP Version: Adding a student who actually cheated to the data\")\n",
        "plt.show()"
      ],
      "metadata": {
        "colab": {
          "base_uri": "https://localhost:8080/",
          "height": 281
        },
        "id": "F09CePb5Tg96",
        "outputId": "d22213f4-ad54-4733-a87b-824da91dbd16"
      },
      "execution_count": 13,
      "outputs": [
        {
          "output_type": "display_data",
          "data": {
            "text/plain": [
              "<Figure size 432x288 with 1 Axes>"
            ],
            "image/png": "[encoded data removed]"
          },
          "metadata": {
            "needs_background": "light"
          }
        }
      ]
    },
    {
      "cell_type": "markdown",
      "source": [
        "As you see, we can't really tell if Student #302 cheated or not because the output results contain a degree of randomness."
      ],
      "metadata": {
        "id": "DSVX78fudcEG"
      }
    },
    {
      "cell_type": "markdown",
      "source": [
        "Because of the randomness of the algorithm, this is where having a bigger dataset comes in handy. Now assume we have 30000 students instead of 300. Run through the code below. Observe how the DP graph does not significantly change, as the values follow the calculated probabilities."
      ],
      "metadata": {
        "id": "_ln0EOd42U9E"
      }
    },
    {
      "cell_type": "code",
      "source": [
        "plotData = {'cheated': 10000, 'did not cheat': 20000}\n",
        "labels = list(plotData.keys())\n",
        "values = list(plotData.values())\n",
        "\n",
        "dpPlotData = {'cheated': 0, 'did not cheat': 0}\n",
        "for key in plotData:\n",
        "  for i in range(plotData[key]):\n",
        "    flip = random.randint(0,1)\n",
        "    if flip == 0:\n",
        "      dpPlotData[key] += 1\n",
        "    else:\n",
        "      flip = random.randint(0,1)\n",
        "      if flip == 0:\n",
        "        dpPlotData['did not cheat'] += 1\n",
        "      else:\n",
        "        dpPlotData['cheated'] += 1\n",
        "\n",
        "dpLabels = list(dpPlotData.keys())\n",
        "dpValues = list(dpPlotData.values())\n",
        "\n",
        "fig, (ax1, ax2) = plt.subplots(1, 2)\n",
        "\n",
        "fig.suptitle('Without DP (Left) vs With DP (Right)')\n",
        "ax1.bar(labels, values)\n",
        "ax2.bar(dpLabels, dpValues)\n",
        "fig.show()"
      ],
      "metadata": {
        "colab": {
          "base_uri": "https://localhost:8080/",
          "height": 294
        },
        "id": "2cApY9K32UK0",
        "outputId": "faebb1c9-0221-40ee-ff50-3471ff3d9787"
      },
      "execution_count": 16,
      "outputs": [
        {
          "output_type": "display_data",
          "data": {
            "text/plain": [
              "<Figure size 432x288 with 2 Axes>"
            ],
            "image/png": "[encoded data removed]"
          },
          "metadata": {
            "needs_background": "light"
          }
        }
      ]
    },
    {
      "cell_type": "markdown",
      "source": [
        "## Hours of Sleep with PyDP"
      ],
      "metadata": {
        "id": "cw9d_vEf6DT1"
      }
    },
    {
      "cell_type": "markdown",
      "source": [
        "Now, we will look at OpenMined's Python wrapper for Google's Differential Privacy project, PyDP, available here: https://github.com/OpenMined/PyDP. This library has functions for producing aggregate statistics with DP.\n",
        "\n",
        "This example is adapted from their \"Tutorial_1-carrots_demo.\""
      ],
      "metadata": {
        "id": "G8Kslhr-ZDEE"
      }
    },
    {
      "cell_type": "code",
      "source": [
        "# Install the PyDP package\n",
        "! pip install python-dp"
      ],
      "metadata": {
        "colab": {
          "base_uri": "https://localhost:8080/"
        },
        "id": "EyIBP2t592pq",
        "outputId": "639fa590-850e-4202-c800-52d93b2758ba"
      },
      "execution_count": null,
      "outputs": [
        {
          "output_type": "stream",
          "name": "stdout",
          "text": [
            "Looking in indexes: https://pypi.org/simple, https://us-python.pkg.dev/colab-wheels/public/simple/\n",
            "Collecting python-dp\n",
            "  Downloading python_dp-1.1.1-cp37-cp37m-manylinux1_x86_64.whl (3.5 MB)\n",
            "\u001b[K     |████████████████████████████████| 3.5 MB 7.3 MB/s \n",
            "\u001b[?25hInstalling collected packages: python-dp\n",
            "Successfully installed python-dp-1.1.1\n"
          ]
        }
      ]
    },
    {
      "cell_type": "code",
      "source": [
        "import pydp as dp  #dp is the convention\n",
        "from pydp.algorithms.laplacian import BoundedSum, BoundedMean, Count, Max\n",
        "import pandas as pd\n",
        "import statistics "
      ],
      "metadata": {
        "id": "e1DZbKgs98eX"
      },
      "execution_count": null,
      "outputs": []
    },
    {
      "cell_type": "markdown",
      "source": [
        "This example dataset has 100 entries for the hours of sleep each student got. First, we'll convert the csv into a pandas DataFrame."
      ],
      "metadata": {
        "id": "kaurAZRJZ1uQ"
      }
    },
    {
      "cell_type": "code",
      "source": [
        "url = \"https://raw.githubusercontent.com/liatzheng/DifferentialPrivacy/main/hours_of_sleep.csv\"\n",
        "df = pd.read_csv(url, sep=',', names=['student', 'hours_of_sleep'])\n",
        "df.head()"
      ],
      "metadata": {
        "colab": {
          "base_uri": "https://localhost:8080/",
          "height": 206
        },
        "id": "ZnWzKFJ0-Vos",
        "outputId": "8573997e-46f2-4d64-c5d9-ae29cddcf32c"
      },
      "execution_count": null,
      "outputs": [
        {
          "output_type": "execute_result",
          "data": {
            "text/plain": [
              "   student  hours_of_sleep\n",
              "0        1               1\n",
              "1        2               5\n",
              "2        3               7\n",
              "3        4              11\n",
              "4        5               4"
            ],
            "text/html": [
              "\n",
              "  <div id=\"df-63cec8ee-7265-47f8-845a-bdf8f93138d5\">\n",
              "    <div class=\"colab-df-container\">\n",
              "      <div>\n",
              "<style scoped>\n",
              "    .dataframe tbody tr th:only-of-type {\n",
              "        vertical-align: middle;\n",
              "    }\n",
              "\n",
              "    .dataframe tbody tr th {\n",
              "        vertical-align: top;\n",
              "    }\n",
              "\n",
              "    .dataframe thead th {\n",
              "        text-align: right;\n",
              "    }\n",
              "</style>\n",
              "<table border=\"1\" class=\"dataframe\">\n",
              "  <thead>\n",
              "    <tr style=\"text-align: right;\">\n",
              "      <th></th>\n",
              "      <th>student</th>\n",
              "      <th>hours_of_sleep</th>\n",
              "    </tr>\n",
              "  </thead>\n",
              "  <tbody>\n",
              "    <tr>\n",
              "      <th>0</th>\n",
              "      <td>1</td>\n",
              "      <td>1</td>\n",
              "    </tr>\n",
              "    <tr>\n",
              "      <th>1</th>\n",
              "      <td>2</td>\n",
              "      <td>5</td>\n",
              "    </tr>\n",
              "    <tr>\n",
              "      <th>2</th>\n",
              "      <td>3</td>\n",
              "      <td>7</td>\n",
              "    </tr>\n",
              "    <tr>\n",
              "      <th>3</th>\n",
              "      <td>4</td>\n",
              "      <td>11</td>\n",
              "    </tr>\n",
              "    <tr>\n",
              "      <th>4</th>\n",
              "      <td>5</td>\n",
              "      <td>4</td>\n",
              "    </tr>\n",
              "  </tbody>\n",
              "</table>\n",
              "</div>\n",
              "      <button class=\"colab-df-convert\" onclick=\"convertToInteractive('df-63cec8ee-7265-47f8-845a-bdf8f93138d5')\"\n",
              "              title=\"Convert this dataframe to an interactive table.\"\n",
              "              style=\"display:none;\">\n",
              "        \n",
              "  <svg xmlns=\"http://www.w3.org/2000/svg\" height=\"24px\"viewBox=\"0 0 24 24\"\n",
              "       width=\"24px\">\n",
              "    <path d=\"M0 0h24v24H0V0z\" fill=\"none\"/>\n",
              "    <path d=\"M18.56 5.44l.94 2.06.94-2.06 2.06-.94-2.06-.94-.94-2.06-.94 2.06-2.06.94zm-11 1L8.5 8.5l.94-2.06 2.06-.94-2.06-.94L8.5 2.5l-.94 2.06-2.06.94zm10 10l.94 2.06.94-2.06 2.06-.94-2.06-.94-.94-2.06-.94 2.06-2.06.94z\"/><path d=\"M17.41 7.96l-1.37-1.37c-.4-.4-.92-.59-1.43-.59-.52 0-1.04.2-1.43.59L10.3 9.45l-7.72 7.72c-.78.78-.78 2.05 0 2.83L4 21.41c.39.39.9.59 1.41.59.51 0 1.02-.2 1.41-.59l7.78-7.78 2.81-2.81c.8-.78.8-2.07 0-2.86zM5.41 20L4 18.59l7.72-7.72 1.47 1.35L5.41 20z\"/>\n",
              "  </svg>\n",
              "      </button>\n",
              "      \n",
              "  <style>\n",
              "    .colab-df-container {\n",
              "      display:flex;\n",
              "      flex-wrap:wrap;\n",
              "      gap: 12px;\n",
              "    }\n",
              "\n",
              "    .colab-df-convert {\n",
              "      background-color: #E8F0FE;\n",
              "      border: none;\n",
              "      border-radius: 50%;\n",
              "      cursor: pointer;\n",
              "      display: none;\n",
              "      fill: #1967D2;\n",
              "      height: 32px;\n",
              "      padding: 0 0 0 0;\n",
              "      width: 32px;\n",
              "    }\n",
              "\n",
              "    .colab-df-convert:hover {\n",
              "      background-color: #E2EBFA;\n",
              "      box-shadow: 0px 1px 2px rgba(60, 64, 67, 0.3), 0px 1px 3px 1px rgba(60, 64, 67, 0.15);\n",
              "      fill: #174EA6;\n",
              "    }\n",
              "\n",
              "    [theme=dark] .colab-df-convert {\n",
              "      background-color: #3B4455;\n",
              "      fill: #D2E3FC;\n",
              "    }\n",
              "\n",
              "    [theme=dark] .colab-df-convert:hover {\n",
              "      background-color: #434B5C;\n",
              "      box-shadow: 0px 1px 3px 1px rgba(0, 0, 0, 0.15);\n",
              "      filter: drop-shadow(0px 1px 2px rgba(0, 0, 0, 0.3));\n",
              "      fill: #FFFFFF;\n",
              "    }\n",
              "  </style>\n",
              "\n",
              "      <script>\n",
              "        const buttonEl =\n",
              "          document.querySelector('#df-63cec8ee-7265-47f8-845a-bdf8f93138d5 button.colab-df-convert');\n",
              "        buttonEl.style.display =\n",
              "          google.colab.kernel.accessAllowed ? 'block' : 'none';\n",
              "\n",
              "        async function convertToInteractive(key) {\n",
              "          const element = document.querySelector('#df-63cec8ee-7265-47f8-845a-bdf8f93138d5');\n",
              "          const dataTable =\n",
              "            await google.colab.kernel.invokeFunction('convertToInteractive',\n",
              "                                                     [key], {});\n",
              "          if (!dataTable) return;\n",
              "\n",
              "          const docLinkHtml = 'Like what you see? Visit the ' +\n",
              "            '<a target=\"_blank\" href=https://colab.research.google.com/notebooks/data_table.ipynb>data table notebook</a>'\n",
              "            + ' to learn more about interactive tables.';\n",
              "          element.innerHTML = '';\n",
              "          dataTable['output_type'] = 'display_data';\n",
              "          await google.colab.output.renderOutput(dataTable, element);\n",
              "          const docLink = document.createElement('div');\n",
              "          docLink.innerHTML = docLinkHtml;\n",
              "          element.appendChild(docLink);\n",
              "        }\n",
              "      </script>\n",
              "    </div>\n",
              "  </div>\n",
              "  "
            ]
          },
          "metadata": {},
          "execution_count": 10
        }
      ]
    },
    {
      "cell_type": "markdown",
      "source": [
        "Using the statistics library, we can first calculate the mean without DP."
      ],
      "metadata": {
        "id": "whhu7q_TaQeP"
      }
    },
    {
      "cell_type": "code",
      "source": [
        "# calculates mean without applying differential privacy\n",
        "def mean_hours(data) -> float:\n",
        "    return statistics.mean(list(data[\"hours_of_sleep\"]))"
      ],
      "metadata": {
        "id": "73X8pp-0ALE3"
      },
      "execution_count": null,
      "outputs": []
    },
    {
      "cell_type": "markdown",
      "source": [
        "PyDP lets us calculate the private mean, where the user inputs a privacy_budget as an argument between 0 and 1. The closer to 0, the more private it is. "
      ],
      "metadata": {
        "id": "ZKKOjBpaagPF"
      }
    },
    {
      "cell_type": "code",
      "source": [
        "# calculates mean applying differential privacy\n",
        "def private_mean(privacy_budget: float, data) -> float:\n",
        "    x = BoundedMean(privacy_budget, 0, 1, 100)\n",
        "    return x.quick_result(list(data[\"hours_of_sleep\"]))"
      ],
      "metadata": {
        "id": "XNrXK4h0AUxd"
      },
      "execution_count": null,
      "outputs": []
    },
    {
      "cell_type": "markdown",
      "source": [
        "Notice the difference between the two numbers. Feel free to run this cell multiple times, observing how much the private mean fluctuates.\n"
      ],
      "metadata": {
        "id": "gRiZqsOacDsb"
      }
    },
    {
      "cell_type": "code",
      "source": [
        "print(\"Mean: \", mean_hours(df))\n",
        "print(\"Private Mean: \", private_mean(.8, df))"
      ],
      "metadata": {
        "colab": {
          "base_uri": "https://localhost:8080/"
        },
        "id": "T2LTqlroAarr",
        "outputId": "1ace358b-07f3-468b-c013-a919b3de4a7d"
      },
      "execution_count": null,
      "outputs": [
        {
          "output_type": "stream",
          "name": "stdout",
          "text": [
            "Mean:  7.1\n",
            "Private Mean:  6.7458100206921685\n"
          ]
        }
      ]
    },
    {
      "cell_type": "markdown",
      "source": [
        "Now say we want to find the number of students who sleep above a certain amount of hours. We can see how the results would look with and without DP."
      ],
      "metadata": {
        "id": "0hc6w8V_cSnM"
      }
    },
    {
      "cell_type": "code",
      "source": [
        "# Calculates number of students sleeping more than the required hours without DP\n",
        "def count_above(required: int, data) -> int:\n",
        "    return data[data.hours_of_sleep > required].count()[0]"
      ],
      "metadata": {
        "id": "WWmpoIeFAjDE"
      },
      "execution_count": null,
      "outputs": []
    },
    {
      "cell_type": "code",
      "source": [
        "# Calculates number of students sleeping more than the required hours applying differential privacy.\n",
        "def private_count_above(privacy_budget: float, required: int, data) -> int:\n",
        "    x = Count(privacy_budget, dtype=\"int\")\n",
        "    return x.quick_result(list(data[data.hours_of_sleep > required][\"hours_of_sleep\"]))"
      ],
      "metadata": {
        "id": "jQKKUwIBA4QM"
      },
      "execution_count": null,
      "outputs": []
    },
    {
      "cell_type": "code",
      "source": [
        "print(\"Above 8:\\t\" + str(count_above(8, df)))\n",
        "print(\"Private Count Above:\\t\" + str(private_count_above(1, 8, df)))"
      ],
      "metadata": {
        "colab": {
          "base_uri": "https://localhost:8080/"
        },
        "id": "gQv1-5LjBKWi",
        "outputId": "a25babed-43c4-4947-a507-1b1a70212b54"
      },
      "execution_count": null,
      "outputs": [
        {
          "output_type": "stream",
          "name": "stdout",
          "text": [
            "Above 8:\t25\n",
            "private count above:\t24\n"
          ]
        }
      ]
    },
    {
      "cell_type": "markdown",
      "source": [
        "These next functions calculate the maximum number of hours slept by one student."
      ],
      "metadata": {
        "id": "Q_HPP9cEci8y"
      }
    },
    {
      "cell_type": "code",
      "source": [
        "# Function to return the maximum number of hours slept by one student without appyling differential privacy.\n",
        "def max(data) -> int:\n",
        "    return data.max()[1]"
      ],
      "metadata": {
        "id": "c4eAcSgRBTnd"
      },
      "execution_count": null,
      "outputs": []
    },
    {
      "cell_type": "code",
      "source": [
        "# Function to return the maximum of the number of hours slept by one student appyling differential privacy.\n",
        "def private_max(privacy_budget: float, data) -> int:\n",
        "    # 0 and 150 are the upper and lower limits for the search bound.\n",
        "    x = Max(epsilon = privacy_budget, lower_bound = 0, upper_bound = 100, dtype=\"int\")\n",
        "    return x.quick_result(list(data[\"hours_of_sleep\"]))"
      ],
      "metadata": {
        "id": "yYSKAaCVBaN0"
      },
      "execution_count": null,
      "outputs": []
    },
    {
      "cell_type": "code",
      "source": [
        "print(\"Max:\\t\" + str(max(df)))\n",
        "print(\"Private Max:\\t\" + str(private_max(1, df)))"
      ],
      "metadata": {
        "colab": {
          "base_uri": "https://localhost:8080/"
        },
        "id": "3wc9BF29BqdY",
        "outputId": "6b9342f3-934a-49be-e8dd-f5fba0f96b18"
      },
      "execution_count": null,
      "outputs": [
        {
          "output_type": "stream",
          "name": "stdout",
          "text": [
            "Max:\t13\n",
            "private max:\t9\n"
          ]
        }
      ]
    },
    {
      "cell_type": "markdown",
      "source": [
        "These next functions calculate the sum of all the hours slept."
      ],
      "metadata": {
        "id": "MQBKEMQKc3If"
      }
    },
    {
      "cell_type": "code",
      "source": [
        "# Function to calculate sum hours slept without DP.\n",
        "def sum_hours(data) -> int:\n",
        "    return data.sum()[1]"
      ],
      "metadata": {
        "id": "l5mEGtcyBuzj"
      },
      "execution_count": null,
      "outputs": []
    },
    {
      "cell_type": "code",
      "source": [
        "# Function to calculate sum of hours slept applying differential privacy.\n",
        "def private_sum(privacy_budget: float, data) -> int:\n",
        "    x = BoundedSum(epsilon = privacy_budget, delta = 0, lower_bound= 1, upper_bound = 100, dtype=\"float\")\n",
        "    return x.quick_result(list(data[\"hours_of_sleep\"]))"
      ],
      "metadata": {
        "id": "OcHUEdrOB3mP"
      },
      "execution_count": null,
      "outputs": []
    },
    {
      "cell_type": "code",
      "source": [
        "print(\"Sum:\\t\" + str(sum_hours(df)))\n",
        "print(\"Private Sum:\\t\" + str(private_sum(1, df)))"
      ],
      "metadata": {
        "colab": {
          "base_uri": "https://localhost:8080/"
        },
        "id": "p06WRwblB_Bn",
        "outputId": "ae6b01c5-702f-4c3c-9780-702cf61098b6"
      },
      "execution_count": null,
      "outputs": [
        {
          "output_type": "stream",
          "name": "stdout",
          "text": [
            "Sum:\t710\n",
            "Private Sum:\t757.1186691547045\n"
          ]
        }
      ]
    },
    {
      "cell_type": "markdown",
      "source": [
        "We can use the private_sum function to illustrate how DP can preserve privacy. Remember the data we used from before? Well, the first student reported only sleeping one hour, making them identifiable if there's no privacy measure to protect them.\n",
        "\n",
        "Let's load a parallel database that has everyone else except the first student. "
      ],
      "metadata": {
        "id": "JW5-BuJ2dARl"
      }
    },
    {
      "cell_type": "code",
      "source": [
        "url = \"https://raw.githubusercontent.com/liatzheng/DifferentialPrivacy/main/hours_of_sleep_without_student1.csv\"\n",
        "df2 = pd.read_csv(url, sep=',', names=['student', 'hours_of_sleep'])\n",
        "df2.head()"
      ],
      "metadata": {
        "colab": {
          "base_uri": "https://localhost:8080/",
          "height": 206
        },
        "id": "MGQqp9aIf7z5",
        "outputId": "0160b1ba-f964-477a-a862-7a32a8c9dece"
      },
      "execution_count": null,
      "outputs": [
        {
          "output_type": "execute_result",
          "data": {
            "text/plain": [
              "   student  hours_of_sleep\n",
              "0        2               5\n",
              "1        3               7\n",
              "2        4              11\n",
              "3        5               4\n",
              "4        6               9"
            ],
            "text/html": [
              "\n",
              "  <div id=\"df-4f0c9d79-e95d-4129-ab01-55af769cb8c7\">\n",
              "    <div class=\"colab-df-container\">\n",
              "      <div>\n",
              "<style scoped>\n",
              "    .dataframe tbody tr th:only-of-type {\n",
              "        vertical-align: middle;\n",
              "    }\n",
              "\n",
              "    .dataframe tbody tr th {\n",
              "        vertical-align: top;\n",
              "    }\n",
              "\n",
              "    .dataframe thead th {\n",
              "        text-align: right;\n",
              "    }\n",
              "</style>\n",
              "<table border=\"1\" class=\"dataframe\">\n",
              "  <thead>\n",
              "    <tr style=\"text-align: right;\">\n",
              "      <th></th>\n",
              "      <th>student</th>\n",
              "      <th>hours_of_sleep</th>\n",
              "    </tr>\n",
              "  </thead>\n",
              "  <tbody>\n",
              "    <tr>\n",
              "      <th>0</th>\n",
              "      <td>2</td>\n",
              "      <td>5</td>\n",
              "    </tr>\n",
              "    <tr>\n",
              "      <th>1</th>\n",
              "      <td>3</td>\n",
              "      <td>7</td>\n",
              "    </tr>\n",
              "    <tr>\n",
              "      <th>2</th>\n",
              "      <td>4</td>\n",
              "      <td>11</td>\n",
              "    </tr>\n",
              "    <tr>\n",
              "      <th>3</th>\n",
              "      <td>5</td>\n",
              "      <td>4</td>\n",
              "    </tr>\n",
              "    <tr>\n",
              "      <th>4</th>\n",
              "      <td>6</td>\n",
              "      <td>9</td>\n",
              "    </tr>\n",
              "  </tbody>\n",
              "</table>\n",
              "</div>\n",
              "      <button class=\"colab-df-convert\" onclick=\"convertToInteractive('df-4f0c9d79-e95d-4129-ab01-55af769cb8c7')\"\n",
              "              title=\"Convert this dataframe to an interactive table.\"\n",
              "              style=\"display:none;\">\n",
              "        \n",
              "  <svg xmlns=\"http://www.w3.org/2000/svg\" height=\"24px\"viewBox=\"0 0 24 24\"\n",
              "       width=\"24px\">\n",
              "    <path d=\"M0 0h24v24H0V0z\" fill=\"none\"/>\n",
              "    <path d=\"M18.56 5.44l.94 2.06.94-2.06 2.06-.94-2.06-.94-.94-2.06-.94 2.06-2.06.94zm-11 1L8.5 8.5l.94-2.06 2.06-.94-2.06-.94L8.5 2.5l-.94 2.06-2.06.94zm10 10l.94 2.06.94-2.06 2.06-.94-2.06-.94-.94-2.06-.94 2.06-2.06.94z\"/><path d=\"M17.41 7.96l-1.37-1.37c-.4-.4-.92-.59-1.43-.59-.52 0-1.04.2-1.43.59L10.3 9.45l-7.72 7.72c-.78.78-.78 2.05 0 2.83L4 21.41c.39.39.9.59 1.41.59.51 0 1.02-.2 1.41-.59l7.78-7.78 2.81-2.81c.8-.78.8-2.07 0-2.86zM5.41 20L4 18.59l7.72-7.72 1.47 1.35L5.41 20z\"/>\n",
              "  </svg>\n",
              "      </button>\n",
              "      \n",
              "  <style>\n",
              "    .colab-df-container {\n",
              "      display:flex;\n",
              "      flex-wrap:wrap;\n",
              "      gap: 12px;\n",
              "    }\n",
              "\n",
              "    .colab-df-convert {\n",
              "      background-color: #E8F0FE;\n",
              "      border: none;\n",
              "      border-radius: 50%;\n",
              "      cursor: pointer;\n",
              "      display: none;\n",
              "      fill: #1967D2;\n",
              "      height: 32px;\n",
              "      padding: 0 0 0 0;\n",
              "      width: 32px;\n",
              "    }\n",
              "\n",
              "    .colab-df-convert:hover {\n",
              "      background-color: #E2EBFA;\n",
              "      box-shadow: 0px 1px 2px rgba(60, 64, 67, 0.3), 0px 1px 3px 1px rgba(60, 64, 67, 0.15);\n",
              "      fill: #174EA6;\n",
              "    }\n",
              "\n",
              "    [theme=dark] .colab-df-convert {\n",
              "      background-color: #3B4455;\n",
              "      fill: #D2E3FC;\n",
              "    }\n",
              "\n",
              "    [theme=dark] .colab-df-convert:hover {\n",
              "      background-color: #434B5C;\n",
              "      box-shadow: 0px 1px 3px 1px rgba(0, 0, 0, 0.15);\n",
              "      filter: drop-shadow(0px 1px 2px rgba(0, 0, 0, 0.3));\n",
              "      fill: #FFFFFF;\n",
              "    }\n",
              "  </style>\n",
              "\n",
              "      <script>\n",
              "        const buttonEl =\n",
              "          document.querySelector('#df-4f0c9d79-e95d-4129-ab01-55af769cb8c7 button.colab-df-convert');\n",
              "        buttonEl.style.display =\n",
              "          google.colab.kernel.accessAllowed ? 'block' : 'none';\n",
              "\n",
              "        async function convertToInteractive(key) {\n",
              "          const element = document.querySelector('#df-4f0c9d79-e95d-4129-ab01-55af769cb8c7');\n",
              "          const dataTable =\n",
              "            await google.colab.kernel.invokeFunction('convertToInteractive',\n",
              "                                                     [key], {});\n",
              "          if (!dataTable) return;\n",
              "\n",
              "          const docLinkHtml = 'Like what you see? Visit the ' +\n",
              "            '<a target=\"_blank\" href=https://colab.research.google.com/notebooks/data_table.ipynb>data table notebook</a>'\n",
              "            + ' to learn more about interactive tables.';\n",
              "          element.innerHTML = '';\n",
              "          dataTable['output_type'] = 'display_data';\n",
              "          await google.colab.output.renderOutput(dataTable, element);\n",
              "          const docLink = document.createElement('div');\n",
              "          docLink.innerHTML = docLinkHtml;\n",
              "          element.appendChild(docLink);\n",
              "        }\n",
              "      </script>\n",
              "    </div>\n",
              "  </div>\n",
              "  "
            ]
          },
          "metadata": {},
          "execution_count": 85
        }
      ]
    },
    {
      "cell_type": "markdown",
      "source": [
        "As you can see, the first student is no longer there. Without DP, if we compared the sums of the first and second datasets, there would be a difference of 1, because Student #1 slept one hour. "
      ],
      "metadata": {
        "id": "5ulFKEO-hA-M"
      }
    },
    {
      "cell_type": "code",
      "source": [
        "print(\"Sum of original database:\\t\" + str(sum_hours(df)))\n",
        "print(\"Sum of parallel database without Student #1:\\t\" + str(sum_hours(df2)))"
      ],
      "metadata": {
        "colab": {
          "base_uri": "https://localhost:8080/"
        },
        "id": "kyyBCmeXhU9q",
        "outputId": "28a5327d-9ad8-408f-c16c-7a10a3df817e"
      },
      "execution_count": null,
      "outputs": [
        {
          "output_type": "stream",
          "name": "stdout",
          "text": [
            "Sum of original database:\t710\n",
            "Sum of parallel database without Student #1:\t709\n"
          ]
        }
      ]
    },
    {
      "cell_type": "markdown",
      "source": [
        "But if we use private_sum, this will no longer be the case."
      ],
      "metadata": {
        "id": "S_Rfi2Wdh0hZ"
      }
    },
    {
      "cell_type": "code",
      "source": [
        "print(\"Private Sum of original database:\\t\" + str(private_sum(1, df)))\n",
        "print(\"Private Sum of parallel database without Student #1:\\t\" + str(private_sum(1, df2)))"
      ],
      "metadata": {
        "colab": {
          "base_uri": "https://localhost:8080/"
        },
        "id": "IicIdU7Uh8s6",
        "outputId": "c68c695a-f5a9-4a46-d67f-c2e2a04b4d0f"
      },
      "execution_count": null,
      "outputs": [
        {
          "output_type": "stream",
          "name": "stdout",
          "text": [
            "Private Sum of original database:\t807.7331904242747\n",
            "Private Sum of parallel database without Student #1:\t858.448823688901\n"
          ]
        }
      ]
    },
    {
      "cell_type": "markdown",
      "source": [
        "Thus, by using DP, we preserve privacy as someone wouldn't be able to tell whether an individual was in a database or not."
      ],
      "metadata": {
        "id": "Bp9ZFsELiOpm"
      }
    }
  ]
}